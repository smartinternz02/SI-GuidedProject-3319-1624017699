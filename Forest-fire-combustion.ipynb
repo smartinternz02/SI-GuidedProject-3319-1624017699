{
 "cells": [
  {
   "cell_type": "code",
   "execution_count": 1,
   "metadata": {},
   "outputs": [
    {
     "name": "stderr",
     "output_type": "stream",
     "text": [
      "WARNING:root:Limited tf.compat.v2.summary API due to missing TensorBoard installation.\n",
      "WARNING:root:Limited tf.compat.v2.summary API due to missing TensorBoard installation.\n",
      "WARNING:root:Limited tf.compat.v2.summary API due to missing TensorBoard installation.\n",
      "WARNING:root:Limited tf.summary API due to missing TensorBoard installation.\n",
      "WARNING:root:Limited tf.compat.v2.summary API due to missing TensorBoard installation.\n",
      "WARNING:root:Limited tf.compat.v2.summary API due to missing TensorBoard installation.\n",
      "WARNING:root:Limited tf.compat.v2.summary API due to missing TensorBoard installation.\n"
     ]
    }
   ],
   "source": [
    "#import keras library\n",
    "import tensorflow\n",
    "import keras\n",
    "#import ImageDataGenerator class from keras\n",
    "from tensorflow.keras.preprocessing.image import ImageDataGenerator"
   ]
  },
  {
   "cell_type": "code",
   "execution_count": 2,
   "metadata": {},
   "outputs": [],
   "source": [
    "#Define the parameters /arguments for ImageDataGenerator class\n",
    "from tensorflow.keras.preprocessing.image import ImageDataGenerator\n",
    "train_datagen=ImageDataGenerator(rescale=1./255,\n",
    "                                 shear_range=0.2,\n",
    "                                 rotation_range=180,\n",
    "                                 zoom_range=0.2,\n",
    "                                 horizontal_flip=True)\n",
    "\n",
    "\n",
    "test_datagen=ImageDataGenerator(rescale=1./255)"
   ]
  },
  {
   "cell_type": "code",
   "execution_count": 3,
   "metadata": {},
   "outputs": [
    {
     "data": {
      "text/plain": [
       "<tensorflow.python.keras.preprocessing.image.ImageDataGenerator at 0x35954b2320>"
      ]
     },
     "execution_count": 3,
     "metadata": {},
     "output_type": "execute_result"
    }
   ],
   "source": [
    "train_datagen"
   ]
  },
  {
   "cell_type": "code",
   "execution_count": 4,
   "metadata": {},
   "outputs": [
    {
     "data": {
      "text/plain": [
       "<tensorflow.python.keras.preprocessing.image.ImageDataGenerator at 0x35954b2358>"
      ]
     },
     "execution_count": 4,
     "metadata": {},
     "output_type": "execute_result"
    }
   ],
   "source": [
    "test_datagen"
   ]
  },
  {
   "cell_type": "code",
   "execution_count": 5,
   "metadata": {},
   "outputs": [
    {
     "name": "stdout",
     "output_type": "stream",
     "text": [
      "Found 436 images belonging to 2 classes.\n"
     ]
    }
   ],
   "source": [
    "#: Applying ImageDataGenerator functionality to trainset.\n",
    "#give the path of training images folder\n",
    "x_train = train_datagen.flow_from_directory(r'D:\\internship\\project\\Dataset\\train_set',\n",
    "                                            target_size = (64,64),\n",
    "                                            batch_size = 32,\n",
    "                                            class_mode = 'binary')"
   ]
  },
  {
   "cell_type": "code",
   "execution_count": 6,
   "metadata": {},
   "outputs": [
    {
     "name": "stdout",
     "output_type": "stream",
     "text": [
      "Found 121 images belonging to 2 classes.\n"
     ]
    }
   ],
   "source": [
    "#: Applying ImageDataGenerator functionality to testset.\n",
    "#give the path of testing images folder\n",
    "x_test = test_datagen.flow_from_directory(r'D:\\internship\\project\\Dataset\\test_set',\n",
    "                                          target_size = (64,64),\n",
    "                                          batch_size = 32,\n",
    "                                          class_mode = 'binary')"
   ]
  },
  {
   "cell_type": "code",
   "execution_count": 7,
   "metadata": {},
   "outputs": [],
   "source": [
    "'''import model building libraries'''\n",
    "\n",
    "#To define linear intialisation import Sequential\n",
    "from tensorflow.keras.models import Sequential\n",
    "#To add layers import Dense\n",
    "from tensorflow.keras.layers import Dense\n",
    "#To create Convolution kernel import Convolution2D\n",
    "from tensorflow.keras.layers import Convolution2D\n",
    "#import Maxpooling layer\n",
    "from tensorflow.keras.layers import MaxPooling2D\n",
    "#import Flatten layer\n",
    "from tensorflow.keras.layers import Flatten\n",
    "from tensorflow.keras.optimizers import Adam"
   ]
  },
  {
   "cell_type": "code",
   "execution_count": 8,
   "metadata": {},
   "outputs": [],
   "source": [
    "#intializing the model\n",
    "model =Sequential()"
   ]
  },
  {
   "cell_type": "code",
   "execution_count": 9,
   "metadata": {},
   "outputs": [],
   "source": [
    "#add convolutional layer\n",
    "model.add(Convolution2D(32,(3,3),input_shape=(64,64,3),activation='relu'))"
   ]
  },
  {
   "cell_type": "code",
   "execution_count": 10,
   "metadata": {},
   "outputs": [],
   "source": [
    "#add maxpooling layer\n",
    "model.add(MaxPooling2D(pool_size=(2,2)))"
   ]
  },
  {
   "cell_type": "code",
   "execution_count": 11,
   "metadata": {},
   "outputs": [],
   "source": [
    "#add flatten layer\n",
    "model.add(Flatten())"
   ]
  },
  {
   "cell_type": "code",
   "execution_count": 12,
   "metadata": {},
   "outputs": [],
   "source": [
    "#add hidden layer\n",
    "#model.add(Dense(150,activation='relu'))\n",
    "model.add(Dense(kernel_initializer=\"uniform\",activation=\"relu\",units=150))"
   ]
  },
  {
   "cell_type": "code",
   "execution_count": 13,
   "metadata": {},
   "outputs": [],
   "source": [
    "#add hidden layermodel.add(Dense(output_dim=64,init='uniform',activation='relu'))"
   ]
  },
  {
   "cell_type": "code",
   "execution_count": 13,
   "metadata": {},
   "outputs": [],
   "source": [
    "#add output layer\n",
    "model.add(Dense(units=1,kernel_initializer=\"uniform\",activation='sigmoid'))"
   ]
  },
  {
   "cell_type": "code",
   "execution_count": null,
   "metadata": {},
   "outputs": [],
   "source": [
    "#Training the model\n",
    "model.fit_generator(x_train,steps_per_epoch=14,\n",
    "                    epochs=10,validation_data=x_test,\n",
    "                    validation_steps=4)"
   ]
  },
  {
   "cell_type": "code",
   "execution_count": 15,
   "metadata": {
    "scrolled": true
   },
   "outputs": [
    {
     "name": "stdout",
     "output_type": "stream",
     "text": [
      "WARNING:tensorflow:Compiled the loaded model, but the compiled metrics have yet to be built. `model.compile_metrics` will be empty until you train or evaluate the model.\n"
     ]
    },
    {
     "name": "stderr",
     "output_type": "stream",
     "text": [
      "WARNING:tensorflow:Compiled the loaded model, but the compiled metrics have yet to be built. `model.compile_metrics` will be empty until you train or evaluate the model.\n"
     ]
    }
   ],
   "source": [
    "#save the model\n",
    "model.save(\"forest1.h5\")"
   ]
  },
  {
   "cell_type": "code",
   "execution_count": 16,
   "metadata": {},
   "outputs": [
    {
     "name": "stdout",
     "output_type": "stream",
     "text": [
      "{'forest': 0, 'with fire': 1}\n"
     ]
    }
   ],
   "source": [
    "print(x_train.class_indices)"
   ]
  },
  {
   "cell_type": "markdown",
   "metadata": {},
   "source": [
    "# Prediction"
   ]
  },
  {
   "cell_type": "code",
   "execution_count": 17,
   "metadata": {},
   "outputs": [
    {
     "name": "stdout",
     "output_type": "stream",
     "text": [
      "WARNING:tensorflow:No training configuration found in the save file, so the model was *not* compiled. Compile it manually.\n"
     ]
    },
    {
     "name": "stderr",
     "output_type": "stream",
     "text": [
      "WARNING:tensorflow:No training configuration found in the save file, so the model was *not* compiled. Compile it manually.\n",
      "C:\\Users\\Lenovo\\Anaconda3\\envs\\newenv\\lib\\site-packages\\tensorflow\\python\\keras\\engine\\sequential.py:455: UserWarning: `model.predict_classes()` is deprecated and will be removed after 2021-01-01. Please use instead:* `np.argmax(model.predict(x), axis=-1)`,   if your model does multi-class classification   (e.g. if it uses a `softmax` last-layer activation).* `(model.predict(x) > 0.5).astype(\"int32\")`,   if your model does binary classification   (e.g. if it uses a `sigmoid` last-layer activation).\n",
      "  warnings.warn('`model.predict_classes()` is deprecated and '\n"
     ]
    },
    {
     "data": {
      "text/plain": [
       "array([[0]])"
      ]
     },
     "execution_count": 17,
     "metadata": {},
     "output_type": "execute_result"
    }
   ],
   "source": [
    "#import numpy\n",
    "import numpy as np\n",
    "#import load_model from keras.model\n",
    "from tensorflow.keras.models import load_model\n",
    "#import image class from keras\n",
    "from tensorflow.keras.preprocessing import image\n",
    "#load the saved model\n",
    "model = load_model(\"forest1.h5\")\n",
    "#give any random image path\n",
    "img = image.load_img(r'D:\\internship\\project\\Dataset\\train_set\\with fire\\with fire (2).jpg',\n",
    "                     target_size = (64,64))\n",
    "x = image.img_to_array(img)\n",
    "#expand the image shape\n",
    "x = np.expand_dims(x,axis = 0)\n",
    "pred = model.predict_classes(x)\n",
    "pred"
   ]
  },
  {
   "cell_type": "code",
   "execution_count": 32,
   "metadata": {},
   "outputs": [
    {
     "data": {
      "text/plain": [
       "array([[[[66., 19.,  0.],\n",
       "         [72., 24.,  1.],\n",
       "         [80., 29.,  0.],\n",
       "         ...,\n",
       "         [81., 30.,  1.],\n",
       "         [77., 27.,  0.],\n",
       "         [72., 26.,  0.]],\n",
       "\n",
       "        [[71., 23.,  0.],\n",
       "         [76., 26.,  0.],\n",
       "         [86., 31.,  0.],\n",
       "         ...,\n",
       "         [90., 34.,  1.],\n",
       "         [87., 32.,  1.],\n",
       "         [81., 30.,  0.]],\n",
       "\n",
       "        [[76., 26.,  1.],\n",
       "         [80., 29.,  0.],\n",
       "         [90., 34.,  1.],\n",
       "         ...,\n",
       "         [98., 38.,  1.],\n",
       "         [95., 36.,  2.],\n",
       "         [91., 35.,  2.]],\n",
       "\n",
       "        ...,\n",
       "\n",
       "        [[12.,  0.,  0.],\n",
       "         [12.,  0.,  0.],\n",
       "         [14.,  0.,  0.],\n",
       "         ...,\n",
       "         [ 4.,  0.,  0.],\n",
       "         [ 4.,  0.,  0.],\n",
       "         [ 1.,  0.,  0.]],\n",
       "\n",
       "        [[12.,  0.,  0.],\n",
       "         [12.,  0.,  0.],\n",
       "         [14.,  0.,  0.],\n",
       "         ...,\n",
       "         [ 5.,  0.,  0.],\n",
       "         [ 4.,  0.,  0.],\n",
       "         [ 3.,  2.,  0.]],\n",
       "\n",
       "        [[12.,  0.,  0.],\n",
       "         [12.,  0.,  0.],\n",
       "         [14.,  0.,  0.],\n",
       "         ...,\n",
       "         [ 5.,  1.,  0.],\n",
       "         [ 4.,  0.,  0.],\n",
       "         [ 1.,  0.,  0.]]]], dtype=float32)"
      ]
     },
     "execution_count": 32,
     "metadata": {},
     "output_type": "execute_result"
    }
   ],
   "source": [
    "x"
   ]
  },
  {
   "cell_type": "code",
   "execution_count": 18,
   "metadata": {},
   "outputs": [
    {
     "name": "stdout",
     "output_type": "stream",
     "text": [
      "[0]\n"
     ]
    }
   ],
   "source": [
    "print(pred[0])"
   ]
  },
  {
   "cell_type": "markdown",
   "metadata": {},
   "source": [
    "# opencv prediction"
   ]
  },
  {
   "cell_type": "code",
   "execution_count": 43,
   "metadata": {},
   "outputs": [
    {
     "name": "stdout",
     "output_type": "stream",
     "text": [
      "[[1]]\n",
      "SM447afe53054b432a9b9418b8cc7db541\n",
      "Danger!!\n",
      "Fire Detected\n",
      "SMS sent!\n",
      "[[1]]\n",
      "SM2b47e1cab9cb40638fd34da709b8471c\n",
      "Danger!!\n",
      "Fire Detected\n",
      "SMS sent!\n"
     ]
    }
   ],
   "source": [
    "import cv2\n",
    "#import facevec\n",
    "import numpy as np\n",
    "from tensorflow.keras.preprocessing import image \n",
    "from tensorflow.keras.models  import load_model\n",
    "from twilio.rest import Client\n",
    "from playsound import playsound\n",
    "\n",
    "model = load_model(r'forest1.h5') \n",
    "video = cv2.VideoCapture(0)\n",
    "name = ['forest','with fire']\n",
    "    \n",
    "while(1):\n",
    "    success, frame = video.read()\n",
    "    cv2.imwrite(\"image.jpg\",frame)\n",
    "    img = image.load_img(\"image.jpg\",target_size = (64,64))\n",
    "    x  = image.img_to_array(img)\n",
    "    x = np.expand_dims(x,axis = 0)\n",
    "    a=np.argmax(model.predict(x),axis=1)\n",
    "    #pred = model.predict_classes(x)\n",
    "    p = a[0]\n",
    "    print(pred)\n",
    "    cv2.putText(frame, \"predicted  class = \"+str(name[p]), (100,100), \n",
    "                cv2.FONT_HERSHEY_SIMPLEX, 1, (0,0,0), 1)\n",
    "    \n",
    "    \n",
    "    pred = model.predict_classes(x)\n",
    "    if pred[0]==1:\n",
    "        account_sid = 'AC36cb2559eb78f334eba463d94c2e52d3'\n",
    "        auth_token = '74f7293f74f1fc4ecccc0f2d84f4e980'\n",
    "        client = Client(account_sid, auth_token)\n",
    "\n",
    "        message = client.messages \\\n",
    "        .create(\n",
    "         body='Forest Fire is detected, stay alert',\n",
    "         from_=' +16107561017', #twilio free number\n",
    "         to='+919347515147')\n",
    "        print(message.sid)\n",
    "        print(\"Danger!!\")\n",
    "        print('Fire Detected')\n",
    "        print ('SMS sent!')\n",
    "        playsound(r'D:\\internship\\alert.wav')\n",
    "        #break\n",
    "    else:\n",
    "        print(\"no danger\")\n",
    "       #break\n",
    "    cv2.imshow(\"image\",frame)\n",
    "    if cv2.waitKey(1) & 0xFF == ord('a'): \n",
    "        break\n",
    "\n",
    "video.release()\n",
    "cv2.destroyAllWindows()"
   ]
  },
  {
   "cell_type": "code",
   "execution_count": null,
   "metadata": {},
   "outputs": [],
   "source": []
  }
 ],
 "metadata": {
  "anaconda-cloud": {},
  "kernelspec": {
   "display_name": "Python 3",
   "language": "python",
   "name": "python3"
  },
  "language_info": {
   "codemirror_mode": {
    "name": "ipython",
    "version": 3
   },
   "file_extension": ".py",
   "mimetype": "text/x-python",
   "name": "python",
   "nbconvert_exporter": "python",
   "pygments_lexer": "ipython3",
   "version": "3.7.1"
  }
 },
 "nbformat": 4,
 "nbformat_minor": 1
}
